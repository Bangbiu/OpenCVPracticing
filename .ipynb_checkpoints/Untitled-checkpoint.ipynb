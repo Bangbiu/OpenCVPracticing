{
 "cells": [
  {
   "cell_type": "code",
   "execution_count": null,
   "id": "d1dd841a",
   "metadata": {},
   "outputs": [],
   "source": [
    "import cv2 as cv2"
   ]
  },
  {
   "cell_type": "code",
   "execution_count": null,
   "id": "b666e472",
   "metadata": {},
   "outputs": [],
   "source": [
    "\n",
    "print(2)"
   ]
  },
  {
   "cell_type": "code",
   "execution_count": null,
   "id": "47427c9f",
   "metadata": {},
   "outputs": [],
   "source": [
    "print(\"dw)"
   ]
  },
  {
   "cell_type": "code",
   "execution_count": null,
   "id": "717d3ef0",
   "metadata": {},
   "outputs": [],
   "source": []
  }
 ],
 "metadata": {
  "kernelspec": {
   "display_name": "Python 3",
   "language": "python",
   "name": "python3"
  },
  "language_info": {
   "codemirror_mode": {
    "name": "ipython",
    "version": 3
   },
   "file_extension": ".py",
   "mimetype": "text/x-python",
   "name": "python",
   "nbconvert_exporter": "python",
   "pygments_lexer": "ipython3",
   "version": "3.8.8"
  }
 },
 "nbformat": 4,
 "nbformat_minor": 5
}
